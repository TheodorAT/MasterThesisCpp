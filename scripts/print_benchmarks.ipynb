{
 "cells": [
  {
   "cell_type": "code",
   "execution_count": 3,
   "metadata": {},
   "outputs": [],
   "source": [
    "import os\n",
    "import csv\n",
    "import numpy as np\n",
    "from matplotlib import pyplot as plt"
   ]
  },
  {
   "cell_type": "code",
   "execution_count": 4,
   "metadata": {},
   "outputs": [],
   "source": [
    "def is_number(s):\n",
    "    \"\"\" Returns True if string is a number. \"\"\"\n",
    "    try:\n",
    "        float(s)\n",
    "        return True\n",
    "    except ValueError:\n",
    "        return False"
   ]
  },
  {
   "cell_type": "code",
   "execution_count": 5,
   "metadata": {},
   "outputs": [
    {
     "name": "stdout",
     "output_type": "stream",
     "text": [
      "lp_benchmark_1.0e-4_PDLP+Steering_kappa=0.8_lambda=1_threshold=0.6.csv\n",
      "lp_benchmark_1.0e-4_PDLP+Steering_kappa=0.8_lambda=1_threshold=0.6_sim_scaling=true.csv\n",
      "lp_benchmark_1.0e-4_PDLP+Steering_kappa=0.8_lambda=1_threshold=0.9.csv\n",
      "lp_benchmark_1.0e-4_PDLP+Steering_kappa=0.8_lambda=1_threshold=0.9_sim_scaling=true.csv\n",
      "lp_benchmark_1.0e-4_PDLP_polish=true.csv\n",
      "mip_relaxations_1.0e-4_PDLP+Steering_kappa=0.8_lambda=1_threshold=0.6.csv\n",
      "mip_relaxations_1.0e-4_PDLP+Steering_kappa=0.8_lambda=1_threshold=0.6_sim_scaling=true.csv\n",
      "mip_relaxations_1.0e-4_PDLP+Steering_kappa=0.8_lambda=1_threshold=0.9.csv\n",
      "mip_relaxations_1.0e-4_PDLP+Steering_kappa=0.8_lambda=1_threshold=0.9_sim_scaling=true.csv\n",
      "mip_relaxations_1.0e-4_PDLP_polish=true.csv\n",
      "netlib_benchmark_1.0e-4_PDLP+Steering_kappa=0.8_lambda=1_threshold=0.6.csv\n",
      "netlib_benchmark_1.0e-4_PDLP+Steering_kappa=0.8_lambda=1_threshold=0.6_sim_scaling=true.csv\n",
      "netlib_benchmark_1.0e-4_PDLP+Steering_kappa=0.8_lambda=1_threshold=0.9.csv\n",
      "netlib_benchmark_1.0e-4_PDLP+Steering_kappa=0.8_lambda=1_threshold=0.9_sim_scaling=true.csv\n",
      "netlib_benchmark_1.0e-4_PDLP_polish=true.csv\n"
     ]
    }
   ],
   "source": [
    "selected_dir = \"../benchmarking_results/remote_benchmark_results\"\n",
    "selected_accuracy = \"1.0e-4\"\n",
    "\n",
    "result_summary_files = []\n",
    "\n",
    "# Search for the available json files in the results folder:\n",
    "for subdir, dirs, files in os.walk(selected_dir):\n",
    "    for file in files:\n",
    "        if file.endswith(\".csv\") and selected_accuracy in file:\n",
    "            result_summary_files.append(os.path.join(subdir, file))\n",
    "    break # <-- This ensures that we only search in a depth of one.\n",
    "result_summary_files.sort()\n",
    "for file in result_summary_files:\n",
    "    print(file.split(\"/\")[-1])\n"
   ]
  },
  {
   "cell_type": "code",
   "execution_count": 6,
   "metadata": {},
   "outputs": [
    {
     "name": "stdout",
     "output_type": "stream",
     "text": [
      "lp_benchmark_1.0e-4_PDLP+Steering_kappa=0.8_lambda=1_threshold=0.6.csv\n",
      " - Number of instances solved:  41 / 51\n",
      " - Total KKT passes:  1513479.0\n",
      " - SGM10 KKT passes:  3664.211182815958\n",
      "lp_benchmark_1.0e-4_PDLP+Steering_kappa=0.8_lambda=1_threshold=0.6_sim_scaling=true.csv\n",
      " - Number of instances solved:  41 / 51\n",
      " - Total KKT passes:  1491837.0\n",
      " - SGM10 KKT passes:  3643.8722626245303\n",
      "lp_benchmark_1.0e-4_PDLP+Steering_kappa=0.8_lambda=1_threshold=0.9.csv\n",
      " - Number of instances solved:  41 / 51\n",
      " - Total KKT passes:  1544306.0\n",
      " - SGM10 KKT passes:  3794.7606356709894\n",
      "lp_benchmark_1.0e-4_PDLP+Steering_kappa=0.8_lambda=1_threshold=0.9_sim_scaling=true.csv\n",
      " - Number of instances solved:  40 / 51\n",
      " - Total KKT passes:  1621221.0\n",
      " - SGM10 KKT passes:  3897.6625874430188\n",
      "lp_benchmark_1.0e-4_PDLP_polish=true.csv\n",
      " - Number of instances solved:  41 / 51\n",
      " - Total KKT passes:  1567669.0\n",
      " - SGM10 KKT passes:  3753.7936359087116\n",
      "mip_relaxations_1.0e-4_PDLP+Steering_kappa=0.8_lambda=1_threshold=0.6.csv\n",
      " - Number of instances solved:  333 / 378\n",
      " - Total KKT passes:  6702025.0\n",
      " - SGM10 KKT passes:  2352.0364292112554\n",
      "mip_relaxations_1.0e-4_PDLP+Steering_kappa=0.8_lambda=1_threshold=0.6_sim_scaling=true.csv\n",
      " - Number of instances solved:  332 / 378\n",
      " - Total KKT passes:  6621699.0\n",
      " - SGM10 KKT passes:  2347.8618712228954\n",
      "mip_relaxations_1.0e-4_PDLP+Steering_kappa=0.8_lambda=1_threshold=0.9.csv\n",
      " - Number of instances solved:  336 / 378\n",
      " - Total KKT passes:  6539420.0\n",
      " - SGM10 KKT passes:  2354.5655950678943\n",
      "mip_relaxations_1.0e-4_PDLP+Steering_kappa=0.8_lambda=1_threshold=0.9_sim_scaling=true.csv\n",
      " - Number of instances solved:  335 / 378\n",
      " - Total KKT passes:  6490188.0\n",
      " - SGM10 KKT passes:  2352.8675435686782\n",
      "mip_relaxations_1.0e-4_PDLP_polish=true.csv\n",
      " - Number of instances solved:  335 / 378\n",
      " - Total KKT passes:  6501812.0\n",
      " - SGM10 KKT passes:  2338.9540662442805\n",
      "netlib_benchmark_1.0e-4_PDLP+Steering_kappa=0.8_lambda=1_threshold=0.6.csv\n",
      " - Number of instances solved:  101 / 113\n",
      " - Total KKT passes:  2458691.0\n",
      " - SGM10 KKT passes:  6342.053668343139\n",
      "netlib_benchmark_1.0e-4_PDLP+Steering_kappa=0.8_lambda=1_threshold=0.6_sim_scaling=true.csv\n",
      " - Number of instances solved:  99 / 113\n",
      " - Total KKT passes:  2540439.0\n",
      " - SGM10 KKT passes:  6453.437046463868\n",
      "netlib_benchmark_1.0e-4_PDLP+Steering_kappa=0.8_lambda=1_threshold=0.9.csv\n",
      " - Number of instances solved:  100 / 113\n",
      " - Total KKT passes:  2509735.0\n",
      " - SGM10 KKT passes:  6356.084711509271\n",
      "netlib_benchmark_1.0e-4_PDLP+Steering_kappa=0.8_lambda=1_threshold=0.9_sim_scaling=true.csv\n",
      " - Number of instances solved:  101 / 113\n",
      " - Total KKT passes:  2370230.0\n",
      " - SGM10 KKT passes:  5951.419009129137\n",
      "netlib_benchmark_1.0e-4_PDLP_polish=true.csv\n",
      " - Number of instances solved:  99 / 113\n",
      " - Total KKT passes:  2410901.0\n",
      " - SGM10 KKT passes:  5922.654834459821\n"
     ]
    }
   ],
   "source": [
    "# Data for x-axis in plots: \n",
    "similarity_threshold_list = []\n",
    "kappa_value_list = []\n",
    "lambda_value_list = []\n",
    "\n",
    "# Data for y-axis in plots: \n",
    "total_iterations_list = []\n",
    "solved_instances_list = []\n",
    "\n",
    "for file in result_summary_files:\n",
    "    total_iterations = 0\n",
    "    total_seconds = 0\n",
    "    total_KKT_passes = 0\n",
    "    instance_counter = 0\n",
    "    solved_instances = 0\n",
    "    kkt_sgm_10 = 1\n",
    "    # print(file.split(\"/\")[-1].removesuffix(\".csv\"))\n",
    "    similarity_threshold = file.split(\"threshold=\")[-1].removesuffix(\".csv\")\n",
    "    kappa=file.split(\"kappa=\")[-1].split(\"_\")[0]\n",
    "    lambda_val=file.split(\"lambda=\")[-1].split(\"_\")[0]\n",
    "    if not is_number(kappa):\n",
    "        kappa = 0 \n",
    "    if not is_number(lambda_val):\n",
    "        lambda_val = 0\n",
    "    if not is_number(similarity_threshold):\n",
    "        similarity_threshold = \"1.0\"\n",
    "    # print(\"Similarity Threshold: \", similarity_threshold)\n",
    "    with open(file, \"r\") as csv_file:\n",
    "        file_reader = csv.reader(csv_file)\n",
    "        \n",
    "        for line in file_reader:\n",
    "            instance_counter += 1\n",
    "        instance_counter -= 1\n",
    "  \n",
    "    with open(file, \"r\") as csv_file:\n",
    "        file_reader = csv.reader(csv_file)\n",
    "        \n",
    "        first_row = True\n",
    "        for line in file_reader: \n",
    "            if first_row:\n",
    "                first_row = False\n",
    "            else:\n",
    "                termination_reason = line[1].strip()\n",
    "                if termination_reason == \"TERMINATION_REASON_OPTIMAL\":\n",
    "                    solved_instances += 1\n",
    "                if termination_reason == \"TEMINATION_REASON_ITERATION_LIMIT\":\n",
    "                    kkt_passes = 100000\n",
    "                else:\n",
    "                    kkt_passes = float(line[4].strip())\n",
    "                total_iterations += int(line[2].strip())\n",
    "                total_seconds += float(line[3].strip())\n",
    "                total_KKT_passes += kkt_passes\n",
    "                \n",
    "                kkt_sgm_10 *= (kkt_passes + 10)**(1/instance_counter)\n",
    "    kkt_sgm_10 = (kkt_sgm_10) - 10\n",
    "\n",
    "    print(file.split(\"/\")[-1])    \n",
    "    # print(\" - Total iterations: \", total_iterations) \n",
    "    print(\" - Number of instances solved: \", solved_instances, \"/\", instance_counter) \n",
    "    # print(\" - Total seconds: \", total_seconds)\n",
    "    print(\" - Total KKT passes: \", total_KKT_passes)\n",
    "    print(\" - SGM10 KKT passes: \", kkt_sgm_10)\n",
    "    # Saving the stats for a comparison plot:\n",
    "    similarity_threshold_list.append(float(similarity_threshold))\n",
    "    kappa_value_list.append(float(kappa))\n",
    "    lambda_value_list.append(float(lambda_val))\n",
    "    total_iterations_list.append(int(total_iterations))\n",
    "    solved_instances_list.append(solved_instances)"
   ]
  },
  {
   "cell_type": "code",
   "execution_count": 7,
   "metadata": {},
   "outputs": [
    {
     "data": {
      "text/plain": [
       "Text(0, 0.5, 'Number of instances solved')"
      ]
     },
     "execution_count": 7,
     "metadata": {},
     "output_type": "execute_result"
    },
    {
     "data": {
      "image/png": "[encoded data removed]",
      "text/plain": [
       "<Figure size 800x800 with 2 Axes>"
      ]
     },
     "metadata": {},
     "output_type": "display_data"
    }
   ],
   "source": [
    "plt.figure(figsize=(8, 8))\n",
    "plt.subplot(2, 1, 1)\n",
    "\n",
    "plt.plot(similarity_threshold_list, total_iterations_list, \"*\")\n",
    "plt.title(fr\"Different similarity thresholds, $\\kappa$={kappa_value_list[-1]}\")\n",
    "plt.xticks(np.arange(min(similarity_threshold_list), max(similarity_threshold_list) + 0.1, 0.1))\n",
    "\n",
    "# plt.plot(kappa_value_list, total_iterations_list, \"*\")\n",
    "# plt.title(fr\"Different $\\kappa$, threshold = {similarity_threshold_list[-1]}\")\n",
    "# plt.xticks(np.arange(0,1.1,0.1))\n",
    "\n",
    "plt.ylabel(\"Total iterations for benchmark\")\n",
    "plt.subplot(2, 1, 2)\n",
    "\n",
    "plt.plot(similarity_threshold_list, solved_instances_list, \"*\")\n",
    "plt.xticks(np.arange(-1,1.1,0.1))\n",
    "\n",
    "# plt.plot(kappa_value_list, solved_instances_list, \"*\")\n",
    "# plt.xticks(np.arange(0,1.1,0.1))\n",
    "\n",
    "plt.xlabel(\"Similarity Threshold\")\n",
    "plt.ylabel(\"Number of instances solved\")\n"
   ]
  },
  {
   "cell_type": "markdown",
   "metadata": {},
   "source": [
    "# Largest inertia winners:\n",
    "- L1_sixm250obs\n",
    "\n",
    "# Largest inertia losers: (maybe tune a little bit on these)\n",
    "- buildingenenergy\n",
    "- degme"
   ]
  }
 ],
 "metadata": {
  "kernelspec": {
   "display_name": "Python 3",
   "language": "python",
   "name": "python3"
  },
  "language_info": {
   "codemirror_mode": {
    "name": "ipython",
    "version": 3
   },
   "file_extension": ".py",
   "mimetype": "text/x-python",
   "name": "python",
   "nbconvert_exporter": "python",
   "pygments_lexer": "ipython3",
   "version": "3.12.3"
  }
 },
 "nbformat": 4,
 "nbformat_minor": 2
}
