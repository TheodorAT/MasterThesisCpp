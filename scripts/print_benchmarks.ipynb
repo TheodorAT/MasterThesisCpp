{
 "cells": [
  {
   "cell_type": "code",
   "execution_count": 49,
   "metadata": {},
   "outputs": [],
   "source": [
    "import os\n",
    "import csv\n",
    "import numpy as np\n",
    "from matplotlib import pyplot as plt"
   ]
  },
  {
   "cell_type": "code",
   "execution_count": 50,
   "metadata": {},
   "outputs": [],
   "source": [
    "def is_number(s):\n",
    "    \"\"\" Returns True if string is a number. \"\"\"\n",
    "    try:\n",
    "        float(s)\n",
    "        return True\n",
    "    except ValueError:\n",
    "        return False"
   ]
  },
  {
   "cell_type": "code",
   "execution_count": 51,
   "metadata": {},
   "outputs": [
    {
     "name": "stdout",
     "output_type": "stream",
     "text": [
      "netlib_benchmark_1.0e-4_PDLP+STSN_timing.csv\n",
      "netlib_benchmark_1.0e-4_PDLP+calc_dual_sum_timing.csv\n",
      "netlib_benchmark_1.0e-4_PDLP+calc_sim_sharded_timing.csv\n",
      "netlib_benchmark_1.0e-4_PDLP+calc_sim_timing.csv\n",
      "netlib_benchmark_1.0e-4_PDLP+use_input_method_timing.csv\n",
      "netlib_benchmark_1.0e-4_PDLP_timing.csv\n"
     ]
    }
   ],
   "source": [
    "selected_dir = \"../benchmarking_results/csv_results\"\n",
    "\n",
    "result_summary_files = []\n",
    "\n",
    "# Search for the available json files in the results folder:\n",
    "for subdir, dirs, files in os.walk(selected_dir):\n",
    "    for file in files:\n",
    "        if file.endswith(\".csv\"):\n",
    "            result_summary_files.append(os.path.join(subdir, file))\n",
    "    break # <-- This ensures that we only search in a depth of one.\n",
    "result_summary_files.sort()\n",
    "for file in result_summary_files:\n",
    "    print(file.split(\"/\")[-1])\n"
   ]
  },
  {
   "cell_type": "code",
   "execution_count": 52,
   "metadata": {},
   "outputs": [
    {
     "name": "stdout",
     "output_type": "stream",
     "text": [
      "netlib_benchmark_1.0e-4_PDLP+STSN_timing.csv\n",
      " - Total seconds:  142.19007028500002\n",
      " - Total iterations:  2139919\n",
      " - Total KKT passes:  2151463.0\n",
      "netlib_benchmark_1.0e-4_PDLP+calc_dual_sum_timing.csv\n",
      " - Total seconds:  135.54594054599997\n",
      " - Total iterations:  2389670\n",
      " - Total KKT passes:  2410901.0\n",
      "netlib_benchmark_1.0e-4_PDLP+calc_sim_sharded_timing.csv\n",
      " - Total seconds:  144.95367966400002\n",
      " - Total iterations:  2389670\n",
      " - Total KKT passes:  2410901.0\n",
      "netlib_benchmark_1.0e-4_PDLP+calc_sim_timing.csv\n",
      " - Total seconds:  146.851560242\n",
      " - Total iterations:  2389670\n",
      " - Total KKT passes:  2410901.0\n",
      "netlib_benchmark_1.0e-4_PDLP+use_input_method_timing.csv\n",
      " - Total seconds:  131.63757262699997\n",
      " - Total iterations:  2389670\n",
      " - Total KKT passes:  2410901.0\n",
      "netlib_benchmark_1.0e-4_PDLP_timing.csv\n",
      " - Total seconds:  131.93448142\n",
      " - Total iterations:  2389670\n",
      " - Total KKT passes:  2410901.0\n"
     ]
    }
   ],
   "source": [
    "# Data for x-axis in plots: \n",
    "similarity_threshold_list = []\n",
    "kappa_value_list = []\n",
    "lambda_value_list = []\n",
    "\n",
    "# Data for y-axis in plots: \n",
    "total_iterations_list = []\n",
    "solved_instances_list = []\n",
    "\n",
    "for file in result_summary_files:\n",
    "    total_iterations = 0\n",
    "    total_seconds = 0\n",
    "    total_KKT_passes = 0\n",
    "    instance_counter = 0\n",
    "    solved_instances = 0\n",
    "    total_num_errors = 0\n",
    "    kkt_sgm_10 = 1\n",
    "    # print(file.split(\"/\")[-1].removesuffix(\".csv\"))\n",
    "    similarity_threshold = file.split(\"threshold=\")[-1].removesuffix(\".csv\")\n",
    "    kappa=file.split(\"kappa=\")[-1].split(\"_\")[0]\n",
    "    lambda_val=file.split(\"lambda=\")[-1].split(\"_\")[0]\n",
    "    if not is_number(kappa):\n",
    "        kappa = 0 \n",
    "    if not is_number(lambda_val):\n",
    "        lambda_val = 0\n",
    "    if not is_number(similarity_threshold):\n",
    "        similarity_threshold = \"1.0\"\n",
    "    # print(\"Similarity Threshold: \", similarity_threshold)\n",
    "    with open(file, \"r\") as csv_file:\n",
    "        file_reader = csv.reader(csv_file)\n",
    "        \n",
    "        for line in file_reader:\n",
    "            instance_counter += 1\n",
    "        instance_counter -= 1\n",
    "  \n",
    "    with open(file, \"r\") as csv_file:\n",
    "        file_reader = csv.reader(csv_file)\n",
    "        \n",
    "        first_row = True\n",
    "        for line in file_reader: \n",
    "            if first_row:\n",
    "                first_row = False\n",
    "            else:\n",
    "                termination_reason = line[1].strip()\n",
    "                if termination_reason == \"TERMINATION_REASON_OPTIMAL\":\n",
    "                    solved_instances += 1\n",
    "                if termination_reason == \"TERMINATION_REASON_NUMERICAL_ERROR\":\n",
    "                    total_num_errors += 1\n",
    "                if termination_reason == \"TEMINATION_REASON_ITERATION_LIMIT\" or termination_reason == \"TERMINATION_REASON_NUMERICAL_ERROR\":\n",
    "                    kkt_passes = 100000\n",
    "                else:\n",
    "                    kkt_passes = float(line[4].strip())\n",
    "                total_iterations += int(line[2].strip())\n",
    "                total_seconds += float(line[3].strip())\n",
    "                total_KKT_passes += kkt_passes\n",
    "                \n",
    "                kkt_sgm_10 *= (kkt_passes + 10)**(1/instance_counter)\n",
    "    kkt_sgm_10 = (kkt_sgm_10) - 10\n",
    "\n",
    "    print(file.split(\"/\")[-1])    \n",
    "    # print(\" - Number of instances solved: \", solved_instances, \"/\", instance_counter) \n",
    "    # print(\" - Numerical errors: \", total_num_errors)\n",
    "    print(\" - Total seconds: \", total_seconds)\n",
    "    print(\" - Total iterations: \", total_iterations) \n",
    "    print(\" - Total KKT passes: \", total_KKT_passes)\n",
    "    # print(\" - SGM10 KKT passes: \", kkt_sgm_10)\n",
    "    # Saving the stats for a comparison plot:\n",
    "    similarity_threshold_list.append(float(similarity_threshold))\n",
    "    kappa_value_list.append(float(kappa))\n",
    "    lambda_value_list.append(float(lambda_val))\n",
    "    total_iterations_list.append(int(total_iterations))\n",
    "    solved_instances_list.append(solved_instances)"
   ]
  }
 ],
 "metadata": {
  "kernelspec": {
   "display_name": "Python 3",
   "language": "python",
   "name": "python3"
  },
  "language_info": {
   "codemirror_mode": {
    "name": "ipython",
    "version": 3
   },
   "file_extension": ".py",
   "mimetype": "text/x-python",
   "name": "python",
   "nbconvert_exporter": "python",
   "pygments_lexer": "ipython3",
   "version": "3.12.3"
  }
 },
 "nbformat": 4,
 "nbformat_minor": 2
}
