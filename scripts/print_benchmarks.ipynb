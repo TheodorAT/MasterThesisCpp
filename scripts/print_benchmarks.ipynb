{
 "cells": [
  {
   "cell_type": "code",
   "execution_count": 25,
   "id": "4c51a9b1",
   "metadata": {},
   "outputs": [],
   "source": [
    "import os\n",
    "import csv\n",
    "import numpy as np\n",
    "from matplotlib import pyplot as plt"
   ]
  },
  {
   "cell_type": "code",
   "execution_count": 26,
   "id": "83132375",
   "metadata": {},
   "outputs": [],
   "source": [
    "def is_number(s):\n",
    "    \"\"\" Returns True if string is a number. \"\"\"\n",
    "    try:\n",
    "        float(s)\n",
    "        return True\n",
    "    except ValueError:\n",
    "        return False"
   ]
  },
  {
   "cell_type": "code",
   "execution_count": 27,
   "id": "759fd3e7",
   "metadata": {},
   "outputs": [
    {
     "name": "stdout",
     "output_type": "stream",
     "text": [
      "netlib_benchmark_1.0e-4_PDLP+Nesterov_kappa=0.3_threshold=0.8_similarity_scaling=false_similarity_option=COSINE_SIMILARITY.csv\n",
      "netlib_benchmark_1.0e-4_PDLP+Nesterov_kappa=0.3_threshold=0.8_similarity_scaling=true_similarity_option=COSINE_SIMILARITY.csv\n",
      "netlib_benchmark_1.0e-4_PDLP+Polyak_kappa=0.3_threshold=0.995_similarity_scaling=false_similarity_option=COSINE_SIMILARITY.csv\n",
      "netlib_benchmark_1.0e-4_PDLP+Polyak_kappa=0.3_threshold=0.995_similarity_scaling=true_similarity_option=COSINE_SIMILARITY.csv\n",
      "netlib_benchmark_1.0e-4_PDLP+SVRM_kappa=0.8_lambda=1_threshold=0.8_similarity_scaling=false_similarity_option=COSINE_SIMILARITY.csv\n",
      "netlib_benchmark_1.0e-4_PDLP+SVRM_kappa=0.8_lambda=1_threshold=0.8_similarity_scaling=true_similarity_option=COSINE_SIMILARITY.csv\n",
      "netlib_benchmark_1.0e-4_PDLP.csv\n"
     ]
    }
   ],
   "source": [
    "selected_dir = \"../benchmarking_results/csv_results\"\n",
    "result_summary_files = []\n",
    "\n",
    "# Search for the available json files in the results folder:\n",
    "for subdir, dirs, files in os.walk(selected_dir):\n",
    "    for file in files:\n",
    "        if file.endswith(\".csv\"):\n",
    "            result_summary_files.append(os.path.join(subdir, file))\n",
    "    break # <-- This ensures that we only search in a depth of one.\n",
    "result_summary_files.sort()\n",
    "for file in result_summary_files:\n",
    "    print(file.split(\"/\")[-1])"
   ]
  },
  {
   "cell_type": "code",
   "execution_count": 28,
   "id": "4e828caf",
   "metadata": {},
   "outputs": [
    {
     "name": "stdout",
     "output_type": "stream",
     "text": [
      "netlib_benchmark_1.0e-4_PDLP+Nesterov_kappa=0.3_threshold=0.8_similarity_scaling=false_similarity_option=COSINE_SIMILARITY.csv\n",
      " - Number of instances solved:  102 / 113\n",
      " - Total KKT passes:  2198755.0\n",
      " - SGM10 KKT passes:  5352.947873322336\n",
      "netlib_benchmark_1.0e-4_PDLP+Nesterov_kappa=0.3_threshold=0.8_similarity_scaling=true_similarity_option=COSINE_SIMILARITY.csv\n",
      " - Number of instances solved:  103 / 113\n",
      " - Total KKT passes:  2151463.0\n",
      " - SGM10 KKT passes:  5391.001354840895\n",
      "netlib_benchmark_1.0e-4_PDLP+Polyak_kappa=0.3_threshold=0.995_similarity_scaling=false_similarity_option=COSINE_SIMILARITY.csv\n",
      " - Number of instances solved:  102 / 113\n",
      " - Total KKT passes:  2240041.0\n",
      " - SGM10 KKT passes:  5756.728071442324\n",
      "netlib_benchmark_1.0e-4_PDLP+Polyak_kappa=0.3_threshold=0.995_similarity_scaling=true_similarity_option=COSINE_SIMILARITY.csv\n",
      " - Number of instances solved:  101 / 113\n",
      " - Total KKT passes:  2230765.0\n",
      " - SGM10 KKT passes:  5659.759363297243\n",
      "netlib_benchmark_1.0e-4_PDLP+SVRM_kappa=0.8_lambda=1_threshold=0.8_similarity_scaling=false_similarity_option=COSINE_SIMILARITY.csv\n",
      " - Number of instances solved:  102 / 113\n",
      " - Total KKT passes:  2376710.0\n",
      " - SGM10 KKT passes:  6363.840668553352\n",
      "netlib_benchmark_1.0e-4_PDLP+SVRM_kappa=0.8_lambda=1_threshold=0.8_similarity_scaling=true_similarity_option=COSINE_SIMILARITY.csv\n",
      " - Number of instances solved:  100 / 113\n",
      " - Total KKT passes:  2549067.0\n",
      " - SGM10 KKT passes:  6309.324419331459\n",
      "netlib_benchmark_1.0e-4_PDLP.csv\n",
      " - Number of instances solved:  99 / 113\n",
      " - Total KKT passes:  2410901.0\n",
      " - SGM10 KKT passes:  5922.654834459822\n"
     ]
    }
   ],
   "source": [
    "# Data for x-axis in plots: \n",
    "similarity_threshold_list = []\n",
    "kappa_value_list = []\n",
    "lambda_value_list = []\n",
    "\n",
    "# Data for y-axis in plots: \n",
    "total_iterations_list = []\n",
    "solved_instances_list = []\n",
    "total_seconds_list = []\n",
    "\n",
    "for file in result_summary_files:\n",
    "    total_iterations = 0\n",
    "    total_seconds = 0\n",
    "    total_KKT_passes = 0\n",
    "    instance_counter = 0\n",
    "    solved_instances = 0\n",
    "    total_num_errors = 0\n",
    "    kkt_sgm_10 = 1\n",
    "    # print(file.split(\"/\")[-1].removesuffix(\".csv\"))\n",
    "    similarity_threshold = file.split(\"threshold=\")[-1].removesuffix(\".csv\")\n",
    "    kappa=file.split(\"kappa=\")[-1].split(\"_\")[0]\n",
    "    lambda_val=file.split(\"lambda=\")[-1].split(\"_\")[0]\n",
    "    if not is_number(kappa):\n",
    "        kappa = 0 \n",
    "    if not is_number(lambda_val):\n",
    "        lambda_val = 0\n",
    "    if not is_number(similarity_threshold):\n",
    "        similarity_threshold = \"1.0\"\n",
    "    # print(\"Similarity Threshold: \", similarity_threshold)\n",
    "    with open(file, \"r\") as csv_file:\n",
    "        file_reader = csv.reader(csv_file)\n",
    "        \n",
    "        for line in file_reader:\n",
    "            instance_counter += 1\n",
    "        instance_counter -= 1\n",
    "  \n",
    "    with open(file, \"r\") as csv_file:\n",
    "        file_reader = csv.reader(csv_file)\n",
    "        \n",
    "        first_row = True\n",
    "        for line in file_reader: \n",
    "            if first_row:\n",
    "                first_row = False\n",
    "            else:\n",
    "                termination_reason = line[1].strip()\n",
    "                if termination_reason == \"TERMINATION_REASON_OPTIMAL\":\n",
    "                    solved_instances += 1\n",
    "                if termination_reason == \"TERMINATION_REASON_NUMERICAL_ERROR\":\n",
    "                    total_num_errors += 1\n",
    "                if termination_reason == \"TEMINATION_REASON_ITERATION_LIMIT\" or termination_reason == \"TERMINATION_REASON_NUMERICAL_ERROR\":\n",
    "                    kkt_passes = 100000\n",
    "                else:\n",
    "                    kkt_passes = float(line[4].strip())\n",
    "                total_iterations += int(line[2].strip())\n",
    "                total_seconds += float(line[3].strip())\n",
    "                total_KKT_passes += kkt_passes\n",
    "                \n",
    "                kkt_sgm_10 *= (kkt_passes + 10)**(1/instance_counter)\n",
    "    kkt_sgm_10 = (kkt_sgm_10) - 10\n",
    "\n",
    "    print(file.split(\"/\")[-1])    \n",
    "    print(\" - Number of instances solved: \", solved_instances, \"/\", instance_counter) \n",
    "    # print(\" - Numerical errors: \", total_num_errors)\n",
    "    # print(\" - Total seconds: \", total_seconds)\n",
    "    # print(\" - Total iterations: \", total_iterations) \n",
    "    print(\" - Total KKT passes: \", total_KKT_passes)\n",
    "    print(\" - SGM10 KKT passes: \", kkt_sgm_10)\n",
    "    # Saving the stats for a comparison plot:\n",
    "    total_seconds_list.append(total_seconds)\n",
    "    similarity_threshold_list.append(float(similarity_threshold))\n",
    "    kappa_value_list.append(float(kappa))\n",
    "    lambda_value_list.append(float(lambda_val))\n",
    "    total_iterations_list.append(int(total_iterations))\n",
    "    solved_instances_list.append(solved_instances)"
   ]
  }
 ],
 "metadata": {
  "kernelspec": {
   "display_name": "Python 3",
   "language": "python",
   "name": "python3"
  },
  "language_info": {
   "codemirror_mode": {
    "name": "ipython",
    "version": 3
   },
   "file_extension": ".py",
   "mimetype": "text/x-python",
   "name": "python",
   "nbconvert_exporter": "python",
   "pygments_lexer": "ipython3",
   "version": "3.12.3"
  }
 },
 "nbformat": 4,
 "nbformat_minor": 5
}
