{
 "cells": [
  {
   "cell_type": "code",
   "execution_count": 1,
   "metadata": {},
   "outputs": [],
   "source": [
    "import os\n",
    "import csv\n",
    "import numpy as np\n",
    "from matplotlib import pyplot as plt"
   ]
  },
  {
   "cell_type": "code",
   "execution_count": 2,
   "metadata": {},
   "outputs": [],
   "source": [
    "def is_number(s):\n",
    "    \"\"\" Returns True if string is a number. \"\"\"\n",
    "    try:\n",
    "        float(s)\n",
    "        return True\n",
    "    except ValueError:\n",
    "        return False"
   ]
  },
  {
   "cell_type": "code",
   "execution_count": 8,
   "metadata": {},
   "outputs": [
    {
     "name": "stdout",
     "output_type": "stream",
     "text": [
      "lp_benchmark_1.0e-8_PDLP+Nesterov_scaling=0.3_threshold=0.8_similarity_scaling=true.csv\n",
      "lp_benchmark_1.0e-8_PDLP_polish=true.csv\n",
      "mip_relaxations_1.0e-8_PDLP+Nesterov_scaling=0.3_threshold=0.8_similarity_scaling=true.csv\n",
      "mip_relaxations_1.0e-8_PDLP_polish=true.csv\n",
      "netlib_benchmark_1.0e-8_PDLP+Nesterov_scaling=0.3_threshold=0.8_similarity_scaling=true.csv\n",
      "netlib_benchmark_1.0e-8_PDLP_polish=true.csv\n"
     ]
    }
   ],
   "source": [
    "selected_dir = \"../benchmarking_results/report_results/best_results/high_acc\"\n",
    "result_summary_files = []\n",
    "\n",
    "# Search for the available json files in the results folder:\n",
    "for subdir, dirs, files in os.walk(selected_dir):\n",
    "    for file in files:\n",
    "        if file.endswith(\".csv\") and \"true\" in file:\n",
    "            result_summary_files.append(os.path.join(subdir, file))\n",
    "    break # <-- This ensures that we only search in a depth of one.\n",
    "result_summary_files.sort()\n",
    "for file in result_summary_files:\n",
    "    print(file.split(\"/\")[-1])\n"
   ]
  },
  {
   "cell_type": "code",
   "execution_count": 9,
   "metadata": {},
   "outputs": [
    {
     "name": "stdout",
     "output_type": "stream",
     "text": [
      "lp_benchmark_1.0e-8_PDLP+Nesterov_scaling=0.3_threshold=0.8_similarity_scaling=true.csv\n",
      " - Number of instances solved:  30 / 56\n",
      " - Total KKT passes:  3108172.0\n",
      " - SGM10 KKT passes:  10654.262182007207\n",
      "lp_benchmark_1.0e-8_PDLP_polish=true.csv\n",
      " - Number of instances solved:  30 / 56\n",
      " - Total KKT passes:  3208980.0\n",
      " - SGM10 KKT passes:  11114.917604449407\n",
      "mip_relaxations_1.0e-8_PDLP+Nesterov_scaling=0.3_threshold=0.8_similarity_scaling=true.csv\n",
      " - Number of instances solved:  289 / 383\n",
      " - Total KKT passes:  13235949.0\n",
      " - SGM10 KKT passes:  7509.056770826834\n",
      "mip_relaxations_1.0e-8_PDLP_polish=true.csv\n",
      " - Number of instances solved:  285 / 383\n",
      " - Total KKT passes:  13883670.0\n",
      " - SGM10 KKT passes:  7936.0040977831895\n",
      "netlib_benchmark_1.0e-8_PDLP+Nesterov_scaling=0.3_threshold=0.8_similarity_scaling=true.csv\n",
      " - Number of instances solved:  89 / 113\n",
      " - Total KKT passes:  4255681.0\n",
      " - SGM10 KKT passes:  14348.870755796595\n",
      "netlib_benchmark_1.0e-8_PDLP_polish=true.csv\n",
      " - Number of instances solved:  85 / 113\n",
      " - Total KKT passes:  4627264.0\n",
      " - SGM10 KKT passes:  16016.001249690808\n"
     ]
    }
   ],
   "source": [
    "# A dictionary containing the information for the plots:\n",
    "plot_dict = {}\n",
    "\n",
    "# Data for x-axis in plots: \n",
    "similarity_threshold_list = []\n",
    "kappa_value_list = []\n",
    "lambda_value_list = []\n",
    "\n",
    "# Data for y-axis in plots: \n",
    "total_iterations_list = []\n",
    "solved_instances_list = []\n",
    "\n",
    "for file in result_summary_files:\n",
    "    total_iterations = 0\n",
    "    total_seconds = 0\n",
    "    total_KKT_passes = 0\n",
    "    instance_counter = 0\n",
    "    solved_instances = 0\n",
    "    kkt_sgm_10 = 1\n",
    "\n",
    "    file_key = file.split(\"/\")[-1].removesuffix(\".csv\")\n",
    "    inner_file_dict = {}\n",
    "\n",
    "    kkt_passes_array = []\n",
    "    problems_solved_array = []\n",
    "\n",
    "    similarity_threshold = file.split(\"threshold=\")[-1].removesuffix(\".csv\")\n",
    "    kappa=file.split(\"kappa=\")[-1].split(\"_\")[0]\n",
    "    lambda_val=file.split(\"lambda=\")[-1].split(\"_\")[0]\n",
    "    if not is_number(kappa):\n",
    "        kappa = 0 \n",
    "    if not is_number(lambda_val):\n",
    "        lambda_val = 0\n",
    "    if not is_number(similarity_threshold):\n",
    "        similarity_threshold = \"1.0\"\n",
    "    \n",
    "    with open(file, \"r\") as csv_file:\n",
    "        file_reader = csv.reader(csv_file)\n",
    "        \n",
    "        for line in file_reader:\n",
    "            instance_counter += 1\n",
    "        instance_counter -= 1\n",
    "  \n",
    "    with open(file, \"r\") as csv_file:\n",
    "        file_reader = csv.reader(csv_file)\n",
    "        \n",
    "        first_row = True\n",
    "        for line in file_reader: \n",
    "            if first_row:\n",
    "                first_row = False\n",
    "            else:\n",
    "                termination_reason = line[1].strip()\n",
    "                if termination_reason == \"TERMINATION_REASON_OPTIMAL\":\n",
    "                    solved_instances += 1\n",
    "                if termination_reason == \"TEMINATION_REASON_ITERATION_LIMIT\":\n",
    "                    kkt_passes = 100000\n",
    "                else:\n",
    "                    kkt_passes = float(line[4].strip())\n",
    "                total_iterations += int(line[2].strip())\n",
    "                total_seconds += float(line[3].strip())\n",
    "                total_KKT_passes += kkt_passes\n",
    "                \n",
    "                kkt_sgm_10 *= (kkt_passes + 10)**(1/instance_counter)\n",
    "\n",
    "                # Saving the information for plotting: \n",
    "                kkt_passes_array.append(total_KKT_passes)\n",
    "                problems_solved_array.append(solved_instances/instance_counter)\n",
    "\n",
    "    # Putting the plotting information in the correct place in the dictionaries:\n",
    "    inner_file_dict[\"kkt_passes\"] = kkt_passes_array\n",
    "    inner_file_dict[\"problems_solved\"] = problems_solved_array\n",
    "    plot_dict[file_key] = inner_file_dict\n",
    "\n",
    "    kkt_sgm_10 = (kkt_sgm_10) - 10\n",
    "    \n",
    "    print(file.split(\"/\")[-1])    \n",
    "    # print(\" - Total iterations: \", total_iterations) \n",
    "    print(\" - Number of instances solved: \", solved_instances, \"/\", instance_counter) \n",
    "    # print(\" - Total seconds: \", total_seconds)\n",
    "    print(\" - Total KKT passes: \", total_KKT_passes)\n",
    "    print(\" - SGM10 KKT passes: \", kkt_sgm_10)\n",
    "    # Saving the stats for a comparison plot:\n",
    "    similarity_threshold_list.append(float(similarity_threshold))\n",
    "    kappa_value_list.append(float(kappa))\n",
    "    lambda_value_list.append(float(lambda_val))\n",
    "    total_iterations_list.append(int(total_iterations))\n",
    "    solved_instances_list.append(solved_instances)"
   ]
  },
  {
   "cell_type": "code",
   "execution_count": 10,
   "metadata": {},
   "outputs": [],
   "source": [
    "# Saving the output for plotting in latex:\n",
    "for file in result_summary_files:\n",
    "    file_name = file.split(\"/\")[-1].removesuffix(\".csv\")\n",
    "    selected_plot = plot_dict[file_name]\n",
    "    # Saving the data to a dat file:\n",
    "    output_file_name = file_name.replace(\"1.0\", \"1\").replace(\".\", \"\")\n",
    "    with open(f'./plotting_data/{output_file_name}.dat', 'w') as f:\n",
    "        print(\"kkt_passes fraction_solved\", file=f)\n",
    "        for kkt_passes, fraction_solved in zip(selected_plot[\"kkt_passes\"], selected_plot[\"problems_solved\"]):\n",
    "            print(kkt_passes, fraction_solved, file=f)"
   ]
  }
 ],
 "metadata": {
  "kernelspec": {
   "display_name": "Python 3",
   "language": "python",
   "name": "python3"
  },
  "language_info": {
   "codemirror_mode": {
    "name": "ipython",
    "version": 3
   },
   "file_extension": ".py",
   "mimetype": "text/x-python",
   "name": "python",
   "nbconvert_exporter": "python",
   "pygments_lexer": "ipython3",
   "version": "3.12.3"
  }
 },
 "nbformat": 4,
 "nbformat_minor": 2
}
