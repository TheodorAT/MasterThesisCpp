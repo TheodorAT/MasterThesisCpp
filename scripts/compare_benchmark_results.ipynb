{
 "cells": [
  {
   "cell_type": "code",
   "execution_count": 1,
   "metadata": {},
   "outputs": [],
   "source": [
    "import os\n",
    "import csv\n",
    "import numpy as np\n",
    "from matplotlib import pyplot as plt"
   ]
  },
  {
   "cell_type": "code",
   "execution_count": 2,
   "metadata": {},
   "outputs": [],
   "source": [
    "def is_number(s):\n",
    "    \"\"\" Returns True if string is a number. \"\"\"\n",
    "    try:\n",
    "        float(s)\n",
    "        return True\n",
    "    except ValueError:\n",
    "        return False"
   ]
  },
  {
   "cell_type": "code",
   "execution_count": null,
   "metadata": {},
   "outputs": [],
   "source": [
    "# We select two files from the same benchmark which we compare the results from.\n",
    "selected_dir = \"../benchmarking_results/remote_benchmark_results_high_acc\"\n",
    "# The baseline we compare to:\n",
    "file1 = \"lp_benchmark_1.0e-8_PDLP_polish=true.csv\"\n",
    "# The experiment results: \n",
    "file2 = \"lp_benchmark_1.0e-8_PDLP+Nesterov_scaling=0.3_threshold=0.9_similarity_scaling=false.csv\""
   ]
  },
  {
   "cell_type": "code",
   "execution_count": 71,
   "metadata": {},
   "outputs": [
    {
     "name": "stdout",
     "output_type": "stream",
     "text": [
      "#### The 10 worst performers: ####\n",
      "long15               Improvement: -26908\n",
      "wide15               Improvement: -26908\n",
      "L1_sixm1000obs       Improvement: -25550\n",
      "stp3d                Improvement: -18379\n",
      "nug08-3rd            Improvement: -241\n",
      "datt256              Improvement: -240\n",
      "chrom1024-7          Improvement: -196\n",
      "neos3                Improvement: -157\n",
      "ex10                 Improvement: -4\n",
      "buildingenergy       Improvement: 0\n",
      "\n",
      "#### The 10 best performers: ####\n",
      "fome13               Improvement: 31791\n",
      "square15             Improvement: 22654\n",
      "qap15                Improvement: 7800\n",
      "netlarge2            Improvement: 5067\n",
      "neos5052403          Improvement: 4036\n",
      "pds-100              Improvement: 3464\n",
      "support10            Improvement: 3326\n",
      "lo10                 Improvement: 481\n",
      "savsched1            Improvement: 381\n",
      "L1_sixm250obs        Improvement: 42\n"
     ]
    }
   ],
   "source": [
    "# Finding the instances with the largest difference in KKT passes\n",
    "instances_differences = []\n",
    "\n",
    "csv_1 = open(f\"{selected_dir}/{file1}\", \"r\")\n",
    "csv_2 = open(f\"{selected_dir}/{file2}\", \"r\")\n",
    "file_reader_1 = csv.reader(csv_1)\n",
    "file_reader_2 = csv.reader(csv_2)\n",
    "\n",
    "first_row = True\n",
    "for line_1, line_2 in zip(file_reader_1, file_reader_2): \n",
    "    if first_row:\n",
    "        first_row = False\n",
    "    else:\n",
    "        instance_name_1 = line_1[0].strip()\n",
    "        instance_name_2 = line_2[0].strip()\n",
    "\n",
    "        if instance_name_1 != instance_name_2:\n",
    "            print(\"ERROR: Comparing different instances with each other\")\n",
    "            break\n",
    "\n",
    "        kkt_passes_1 = int(line_1[4].strip()) \n",
    "        kkt_passes_2 = int(line_2[4].strip()) \n",
    "        kkt_passes_difference = kkt_passes_1 - kkt_passes_2\n",
    "        instance_difference_tuple = (instance_name_1, kkt_passes_difference)\n",
    "        instances_differences.append(instance_difference_tuple)\n",
    "# Closing the files:  \n",
    "csv_1.close()\n",
    "csv_2.close()\n",
    "\n",
    "# Sorting the list with the differences in ascending order:\n",
    "instances_differences.sort(key=lambda tup: tup[1])\n",
    "\n",
    "print(\"#### The 10 worst performers: ####\")\n",
    "for entry in instances_differences[:10]:\n",
    "    print(f\"{entry[0]:20} Improvement:\", entry[1])\n",
    "\n",
    "print(\"\\n#### The 10 best performers: ####\")\n",
    "for entry in reversed(instances_differences[-10:]):\n",
    "    print(f\"{entry[0]:20} Improvement:\", entry[1])\n"
   ]
  }
 ],
 "metadata": {
  "kernelspec": {
   "display_name": "Python 3",
   "language": "python",
   "name": "python3"
  },
  "language_info": {
   "codemirror_mode": {
    "name": "ipython",
    "version": 3
   },
   "file_extension": ".py",
   "mimetype": "text/x-python",
   "name": "python",
   "nbconvert_exporter": "python",
   "pygments_lexer": "ipython3",
   "version": "3.12.3"
  }
 },
 "nbformat": 4,
 "nbformat_minor": 2
}
