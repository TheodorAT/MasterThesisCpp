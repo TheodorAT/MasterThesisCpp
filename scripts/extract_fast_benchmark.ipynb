{
 "cells": [
  {
   "cell_type": "code",
   "execution_count": 12,
   "metadata": {},
   "outputs": [],
   "source": [
    "import os\n",
    "import csv\n",
    "from matplotlib import pyplot as plt\n",
    "import random"
   ]
  },
  {
   "cell_type": "code",
   "execution_count": null,
   "metadata": {},
   "outputs": [
    {
     "name": "stdout",
     "output_type": "stream",
     "text": [
      "Subset of benchmark:  mip_relaxations_1.0e-4_PDLP_polish=true\n",
      "Expected time:  259.77078039199995\n"
     ]
    }
   ],
   "source": [
    "# Read the benchmark pdlp file:\n",
    "rootdir = \"../benchmarking_results/baseline\"\n",
    "selected_accuracy = \"1.0e-4\"\n",
    "selected_benchmark = \"mip_relaxations\"\n",
    "benchmark_file = f\"{rootdir}/{selected_benchmark}_{selected_accuracy}_PDLP_polish=true.csv\"\n",
    "\n",
    "# A list for all selected instances, depending on :\n",
    "selected_instances = []\n",
    "expected_time = 0.0\n",
    "# The requirements\n",
    "max_total_seconds = 30.0\n",
    "percentage_selected = 0.2\n",
    "# Comparing on the faster subset:\n",
    "print(\"Subset of benchmark: \" , benchmark_file.split(\"/\")[-1].removesuffix(\".csv\"))\n",
    "with open(benchmark_file, \"r\") as csv_file:\n",
    "    file_reader = csv.reader(csv_file)\n",
    "    first_row = True            # For skipping the headers:\n",
    "    for line in file_reader:         \n",
    "        if first_row:\n",
    "            first_row = False\n",
    "        else:\n",
    "            instance_name = line[0].strip()\n",
    "            termination_reason = line[1].strip()\n",
    "            total_iterations = int(line[2].strip())\n",
    "            total_seconds = float(line[3].strip())\n",
    "            total_KKT_passes = float(line[4].strip())\n",
    "            if total_seconds <= max_total_seconds and random.random() >= (1 - percentage_selected):\n",
    "                selected_instances.append(instance_name)\n",
    "                expected_time += total_seconds\n",
    "print(\"Expected time: \", expected_time)"
   ]
  },
  {
   "cell_type": "code",
   "execution_count": 30,
   "metadata": {},
   "outputs": [
    {
     "name": "stdout",
     "output_type": "stream",
     "text": [
      "supportcase23\n",
      "neos-1122047\n",
      "neos-5188808-nattai\n",
      "blp-ic97\n",
      "cmflsp50-24-8-8\n",
      "iis-hc-cov\n",
      "neos-5251015-ogosta\n",
      "graph40-20-1rand\n",
      "roi5alpha10n8\n",
      "supportcase37\n",
      "fastxgemm-n3r22s4t6\n",
      "ger50-17-trans-pop-3t\n",
      "dc1l\n",
      "neos-5116085-kenana\n",
      "supportcase40\n",
      "nj2\n",
      "neos-5083528-gimone\n",
      "neos-4322846-ryton\n",
      "seqsolve2short4288\n",
      "leo1\n",
      "neos-4966258-blicks\n",
      "nj1\n",
      "cryptanalysiskb128n5obj16\n",
      "neos-5266653-tugela\n",
      "nursesched-medium-hint03\n",
      "neos-957143\n",
      "ci-s4\n",
      "ns2122698\n",
      "cmflsp60-36-2-6\n",
      "neos-885524\n",
      "neos-4754521-awarau\n",
      "thor50dday\n",
      "dws008-03\n",
      "neos-3755335-nizao\n",
      "ns930473\n",
      "cmflsp40-36-2-10\n",
      "sing326\n",
      "d20200\n",
      "neos-5044663-wairoa\n",
      "neos-957323\n",
      "neos-960392\n",
      "rocII-8-11\n",
      "piperout-d27\n",
      "blp-ic98\n",
      "rocII-10-11\n",
      "neos-3237086-abava\n",
      "neos-498623\n",
      "ns1856153\n",
      "neos-3437289-erdre\n",
      "leo2\n",
      "neos-3555904-turama\n",
      "neos-525149\n"
     ]
    }
   ],
   "source": [
    "for instance in selected_instances:\n",
    "    print(instance)"
   ]
  }
 ],
 "metadata": {
  "kernelspec": {
   "display_name": "Python 3",
   "language": "python",
   "name": "python3"
  },
  "language_info": {
   "codemirror_mode": {
    "name": "ipython",
    "version": 3
   },
   "file_extension": ".py",
   "mimetype": "text/x-python",
   "name": "python",
   "nbconvert_exporter": "python",
   "pygments_lexer": "ipython3",
   "version": "3.12.3"
  }
 },
 "nbformat": 4,
 "nbformat_minor": 2
}
